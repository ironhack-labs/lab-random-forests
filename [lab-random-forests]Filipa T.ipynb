{
 "cells": [
  {
   "cell_type": "code",
   "execution_count": null,
   "id": "b50aec65",
   "metadata": {},
   "outputs": [],
   "source": [
    "'''### Instructions\n",
    "\n",
    "- Apply the Random Forests algorithm but this time only by upscaling the data using `SMOTE`.\n",
    "- Note that since `SMOTE` works on numerical data only, we will first encode the categorical variables in this case.'''"
   ]
  },
  {
   "cell_type": "code",
   "execution_count": 1,
   "id": "6c88149e",
   "metadata": {},
   "outputs": [],
   "source": [
    "import pandas as pd\n",
    "import numpy as np\n",
    "from sklearn.preprocessing import MinMaxScaler\n",
    "from sklearn.preprocessing import OneHotEncoder\n",
    "from sklearn.linear_model import LogisticRegression\n",
    "from sklearn.model_selection import train_test_split\n",
    "from sklearn.metrics import accuracy_score\n",
    "import warnings\n",
    "warnings.filterwarnings(\"ignore\")\n",
    "from imblearn.over_sampling import SMOTE\n",
    "from imblearn.under_sampling import RandomUnderSampler\n",
    "from sklearn.preprocessing import OneHotEncoder\n",
    "from sklearn.ensemble import RandomForestClassifier\n"
   ]
  },
  {
   "cell_type": "code",
   "execution_count": 2,
   "id": "e79182aa",
   "metadata": {},
   "outputs": [],
   "source": [
    "categorical  = pd.read_csv(r\"C:\\Users\\filip\\OneDrive\\Desktop\\IRONHACK\\Labs\\Week15\\lab-random-forests\\files_for_lab\\categorical.csv\")\n",
    "numerical  = pd.read_csv(r\"C:\\Users\\filip\\OneDrive\\Desktop\\IRONHACK\\Labs\\Week15\\lab-random-forests\\files_for_lab\\numerical.csv\")\n",
    "target  = pd.read_csv(r\"C:\\Users\\filip\\OneDrive\\Desktop\\IRONHACK\\Labs\\Week15\\lab-random-forests\\files_for_lab\\target.csv\")"
   ]
  },
  {
   "cell_type": "code",
   "execution_count": 3,
   "id": "5f5e2492",
   "metadata": {},
   "outputs": [],
   "source": [
    "encoder = OneHotEncoder()\n",
    "categorical_encoded = pd.DataFrame(encoder.fit_transform(categorical).toarray())"
   ]
  },
  {
   "cell_type": "code",
   "execution_count": 4,
   "id": "ebf38d8b",
   "metadata": {},
   "outputs": [],
   "source": [
    "X = pd.concat([numerical, categorical_encoded], axis=1)\n",
    "y = target['TARGET_B']"
   ]
  },
  {
   "cell_type": "code",
   "execution_count": 5,
   "id": "a449754e",
   "metadata": {},
   "outputs": [],
   "source": [
    "X.columns = X.columns.astype(str)"
   ]
  },
  {
   "cell_type": "code",
   "execution_count": 6,
   "id": "6b76798e",
   "metadata": {},
   "outputs": [],
   "source": [
    "smote = SMOTE()\n",
    "X_resampled, y_resampled = smote.fit_resample(X, y)"
   ]
  },
  {
   "cell_type": "code",
   "execution_count": 7,
   "id": "8fdea440",
   "metadata": {},
   "outputs": [],
   "source": [
    "X_train, X_test, y_train, y_test = train_test_split(X_resampled, y_resampled, test_size=0.2, random_state=42)"
   ]
  },
  {
   "cell_type": "code",
   "execution_count": 8,
   "id": "af2204ca",
   "metadata": {},
   "outputs": [
    {
     "name": "stdout",
     "output_type": "stream",
     "text": [
      "0.9560968877234145\n"
     ]
    },
    {
     "data": {
      "text/plain": [
       "0.9556696477862426"
      ]
     },
     "execution_count": 8,
     "metadata": {},
     "output_type": "execute_result"
    }
   ],
   "source": [
    "from sklearn.ensemble import RandomForestClassifier\n",
    "\n",
    "forest = RandomForestClassifier(n_estimators = 50, max_depth = 7, random_state = 42)\n",
    "forest.fit(X_train, y_train)\n",
    "\n",
    "print(forest.score(X_train, y_train))\n",
    "forest.score(X_test, y_test)"
   ]
  },
  {
   "cell_type": "code",
   "execution_count": null,
   "id": "9c2f1093",
   "metadata": {},
   "outputs": [],
   "source": [
    "# I could not do the below due to lack of computer power"
   ]
  },
  {
   "cell_type": "code",
   "execution_count": null,
   "id": "f603a3cb",
   "metadata": {},
   "outputs": [],
   "source": [
    "# Hyperparameter tuning\n",
    "\n",
    "from sklearn.model_selection import GridSearchCV\n",
    "\n",
    "# Define grid\n",
    "\n",
    "param_grid = {'n_estimators' : [50, 100, 200],\n",
    "             'max_depth' : [2,4,6],\n",
    "              'min_samples_split' : [2,4],\n",
    "              'min_samples_leaf' : [1,2]}\n",
    "\n",
    "# Define model to test\n",
    "\n",
    "forest = RandomForestClassifier(random_state = 42)\n",
    "\n",
    "grid_search = GridSearchCV(forest, param_grid, cv = 5, return_train_score = True, n_jobs = -1)\n",
    "grid_search.fit(X_train, y_train)\n",
    "grid_search.best_params_"
   ]
  },
  {
   "cell_type": "code",
   "execution_count": null,
   "id": "3583b754",
   "metadata": {},
   "outputs": [],
   "source": []
  },
  {
   "cell_type": "code",
   "execution_count": null,
   "id": "a23791c5",
   "metadata": {},
   "outputs": [],
   "source": []
  }
 ],
 "metadata": {
  "kernelspec": {
   "display_name": "Python 3 (ipykernel)",
   "language": "python",
   "name": "python3"
  },
  "language_info": {
   "codemirror_mode": {
    "name": "ipython",
    "version": 3
   },
   "file_extension": ".py",
   "mimetype": "text/x-python",
   "name": "python",
   "nbconvert_exporter": "python",
   "pygments_lexer": "ipython3",
   "version": "3.9.13"
  }
 },
 "nbformat": 4,
 "nbformat_minor": 5
}
