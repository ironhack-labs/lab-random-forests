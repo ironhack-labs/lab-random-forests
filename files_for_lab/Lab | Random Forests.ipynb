{
 "cells": [
  {
   "cell_type": "markdown",
   "id": "791e1038",
   "metadata": {},
   "source": [
    "![logo_ironhack_blue 7](https://user-images.githubusercontent.com/23629340/40541063-a07a0a8a-601a-11e8-91b5-2f13e4e6b441.png)\n",
    "\n",
    "# Lab | Random Forests\n",
    "\n",
    "For this lab, you will be using the CSV files provided in the `files_for_lab` folder.\n",
    "\n",
    "### Instructions\n",
    "\n",
    "- Apply the Random Forests algorithm but this time only by upscaling the data using `SMOTE`.\n",
    "- Note that since `SMOTE` works on numerical data only, we will first encode the categorical variables in this case.\n",
    "\n"
   ]
  },
  {
   "cell_type": "code",
   "execution_count": 1,
   "id": "fd42f2f9",
   "metadata": {},
   "outputs": [],
   "source": [
    "import pandas as pd\n",
    "from imblearn.over_sampling import SMOTE\n",
    "import seaborn as sns\n",
    "from sklearn.model_selection import train_test_split\n",
    "from sklearn.model_selection import GridSearchCV\n",
    "from sklearn.ensemble import RandomForestClassifier"
   ]
  },
  {
   "cell_type": "code",
   "execution_count": 2,
   "id": "fad6665a",
   "metadata": {},
   "outputs": [],
   "source": [
    "categorical = pd.read_csv('categorical.csv')\n",
    "numerical = pd.read_csv('numerical.csv')\n",
    "y = pd.read_csv('target.csv')"
   ]
  },
  {
   "cell_type": "code",
   "execution_count": 8,
   "id": "ead50be0",
   "metadata": {},
   "outputs": [],
   "source": [
    "y_cl = y['TARGET_B']\n",
    "y_re = y['TARGET_D']"
   ]
  },
  {
   "cell_type": "code",
   "execution_count": 3,
   "id": "71d47e26",
   "metadata": {},
   "outputs": [],
   "source": [
    "columns_to_encode = list(categorical.columns)\n",
    "categorical_encoded = pd.get_dummies(categorical[columns_to_encode])"
   ]
  },
  {
   "cell_type": "code",
   "execution_count": 5,
   "id": "a8c81007",
   "metadata": {},
   "outputs": [],
   "source": [
    "X = pd.concat([numerical, categorical_encoded], axis=1)"
   ]
  },
  {
   "cell_type": "code",
   "execution_count": 9,
   "id": "4e1fc1f5",
   "metadata": {},
   "outputs": [],
   "source": [
    "smote = SMOTE()\n",
    "X_sm, y_sm = smote.fit_resample(X, y_cl)"
   ]
  },
  {
   "cell_type": "code",
   "execution_count": 10,
   "id": "5009ee18",
   "metadata": {},
   "outputs": [
    {
     "data": {
      "text/plain": [
       "<AxesSubplot:xlabel='TARGET_B', ylabel='count'>"
      ]
     },
     "execution_count": 10,
     "metadata": {},
     "output_type": "execute_result"
    },
    {
     "data": {
      "image/png": "[encoded data removed]",
      "text/plain": [
       "<Figure size 640x480 with 1 Axes>"
      ]
     },
     "metadata": {},
     "output_type": "display_data"
    }
   ],
   "source": [
    "sns.countplot(x = y_sm, data = X_sm)"
   ]
  },
  {
   "cell_type": "code",
   "execution_count": 12,
   "id": "5325d9ff",
   "metadata": {},
   "outputs": [
    {
     "ename": "NameError",
     "evalue": "name 'clf2' is not defined",
     "output_type": "error",
     "traceback": [
      "\u001b[0;31m---------------------------------------------------------------------------\u001b[0m",
      "\u001b[0;31mNameError\u001b[0m                                 Traceback (most recent call last)",
      "\u001b[0;32m/var/folders/0m/d3zbckcj1zd772z7m1w0_xgc0000gn/T/ipykernel_51786/278504445.py\u001b[0m in \u001b[0;36m<module>\u001b[0;34m\u001b[0m\n\u001b[1;32m      2\u001b[0m \u001b[0mclf\u001b[0m \u001b[0;34m=\u001b[0m \u001b[0mRandomForestClassifier\u001b[0m\u001b[0;34m(\u001b[0m\u001b[0mrandom_state\u001b[0m\u001b[0;34m=\u001b[0m\u001b[0;36m0\u001b[0m\u001b[0;34m)\u001b[0m\u001b[0;34m\u001b[0m\u001b[0;34m\u001b[0m\u001b[0m\n\u001b[1;32m      3\u001b[0m \u001b[0mclf\u001b[0m\u001b[0;34m.\u001b[0m\u001b[0mfit\u001b[0m\u001b[0;34m(\u001b[0m\u001b[0mX_train\u001b[0m\u001b[0;34m,\u001b[0m \u001b[0my_train\u001b[0m\u001b[0;34m)\u001b[0m\u001b[0;34m\u001b[0m\u001b[0;34m\u001b[0m\u001b[0m\n\u001b[0;32m----> 4\u001b[0;31m \u001b[0mr2\u001b[0m \u001b[0;34m=\u001b[0m \u001b[0mclf2\u001b[0m\u001b[0;34m.\u001b[0m\u001b[0mscore\u001b[0m\u001b[0;34m(\u001b[0m\u001b[0mX_test\u001b[0m\u001b[0;34m,\u001b[0m\u001b[0my_test\u001b[0m\u001b[0;34m)\u001b[0m\u001b[0;34m\u001b[0m\u001b[0;34m\u001b[0m\u001b[0m\n\u001b[0m\u001b[1;32m      5\u001b[0m \u001b[0mprint\u001b[0m\u001b[0;34m(\u001b[0m\u001b[0;34m\"R2 Score (Random Forest Classifier):\"\u001b[0m\u001b[0;34m,\u001b[0m \u001b[0mr2\u001b[0m\u001b[0;34m)\u001b[0m\u001b[0;34m\u001b[0m\u001b[0;34m\u001b[0m\u001b[0m\n",
      "\u001b[0;31mNameError\u001b[0m: name 'clf2' is not defined"
     ]
    }
   ],
   "source": [
    "X_train, X_test, y_train, y_test = train_test_split(X_sm, y_sm, test_size=0.2, random_state=100)\n",
    "clf = RandomForestClassifier(random_state=0)\n",
    "clf.fit(X_train, y_train)\n",
    "r2 = clf2.score(X_test,y_test)\n",
    "print(\"R2 Score (Random Forest Classifier):\", r2)"
   ]
  },
  {
   "cell_type": "code",
   "execution_count": null,
   "id": "9eb0674d",
   "metadata": {},
   "outputs": [],
   "source": [
    "n_estimators = [200, 500, 1000, 2000, 4000]\n",
    "min_samples_split = [2, 4, 8, 16, 32]\n",
    "min_samples_leaf = [1, 2, 3, 4, 5]\n",
    "max_features = ['sqrt', 'log2']\n",
    "max_samples = ['None', 0.5, 0.8]\n",
    "\n",
    "param_grid = {\n",
    "    'n_estimators': [50,100],\n",
    "    'min_samples_split': [2,4],\n",
    "    'min_samples_leaf':[1,2]   \n",
    "}\n",
    "\n",
    "grid_search = GridSearchCV(clf,param_grid,cv=5,return_train_score=True)\n",
    "grid_search.fit(X_train,y_train)\n",
    "grid_search.best_params_"
   ]
  },
  {
   "cell_type": "code",
   "execution_count": null,
   "id": "248c0540",
   "metadata": {},
   "outputs": [],
   "source": [
    "clf2 = RandomForestClassifier(n_estimators= 100, min_samples_leaf=1, min_samples_split=2, random_state=0)\n",
    "clf2.fit(X_train, y_train)\n",
    "r2 = clf2.score(X_test,y_test)\n",
    "print(\"R2 Score (Random Forest Classifier):\", r2)"
   ]
  },
  {
   "cell_type": "code",
   "execution_count": null,
   "id": "c6fdf6e8",
   "metadata": {},
   "outputs": [],
   "source": [
    "clf.fit(X_train, y_train)\n",
    "X_train.head()\n",
    "feature_names = X_train.columns\n",
    "feature_names = list(feature_names)\n",
    "df = pd.DataFrame(list(zip(feature_names, clf.feature_importances_)))\n",
    "df.columns = ['columns_name', 'score_feature_importance']\n",
    "sorted = df.sort_values(by=['score_feature_importance'], ascending = False)\n",
    "sorted.head(10)"
   ]
  },
  {
   "cell_type": "code",
   "execution_count": null,
   "id": "0c5b1c56",
   "metadata": {},
   "outputs": [],
   "source": []
  },
  {
   "cell_type": "code",
   "execution_count": null,
   "id": "f1f89b93",
   "metadata": {},
   "outputs": [],
   "source": []
  },
  {
   "cell_type": "code",
   "execution_count": null,
   "id": "c3ffd408",
   "metadata": {},
   "outputs": [],
   "source": []
  },
  {
   "cell_type": "code",
   "execution_count": null,
   "id": "c5fc3845",
   "metadata": {},
   "outputs": [],
   "source": []
  },
  {
   "cell_type": "code",
   "execution_count": null,
   "id": "dc8fb332",
   "metadata": {},
   "outputs": [],
   "source": []
  },
  {
   "cell_type": "code",
   "execution_count": null,
   "id": "71cd8317",
   "metadata": {},
   "outputs": [],
   "source": []
  }
 ],
 "metadata": {
  "kernelspec": {
   "display_name": "Python 3 (ipykernel)",
   "language": "python",
   "name": "python3"
  },
  "language_info": {
   "codemirror_mode": {
    "name": "ipython",
    "version": 3
   },
   "file_extension": ".py",
   "mimetype": "text/x-python",
   "name": "python",
   "nbconvert_exporter": "python",
   "pygments_lexer": "ipython3",
   "version": "3.9.13"
  }
 },
 "nbformat": 4,
 "nbformat_minor": 5
}
